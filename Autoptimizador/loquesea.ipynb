{
 "cells": [
  {
   "cell_type": "code",
   "execution_count": 1,
   "metadata": {},
   "outputs": [],
   "source": [
    "import pandas as pd\n",
    "df = pd.read_csv('MY2022 Fuel Consumption Ratings.csv')"
   ]
  },
  {
   "cell_type": "code",
   "execution_count": 2,
   "metadata": {},
   "outputs": [],
   "source": [
    "#print(\"\\nOriginal DataFrame\")\n",
    "#print(pd.DataFrame(df))\n",
    "df.columns = ['Año Modelo','Marca','Modelo','Clase Vehiculo','Tamaño Maquina(L)','Cilindros','Transmicion',\n",
    "'Tipo Fuel','Consumo Fuel(ciudad(L/100km)','Consumo Fuel(carretera(L/100km)','Consumo Fuel(Consumo Combinado(L/100km)',\n",
    "'Consumo Fuel(Consumo Combinado(mpg(millas por galon))','CO2 emiciones(g/km)','CO2 Rating','Smog Rating']\n",
    "\n",
    "#print(\"\\nModified DataFrame\")\n",
    "#print(pd.DataFrame(df))"
   ]
  },
  {
   "cell_type": "code",
   "execution_count": null,
   "metadata": {},
   "outputs": [],
   "source": [
    "print(df)"
   ]
  },
  {
   "cell_type": "code",
   "execution_count": null,
   "metadata": {},
   "outputs": [],
   "source": [
    "df.describe()"
   ]
  },
  {
   "cell_type": "code",
   "execution_count": null,
   "metadata": {},
   "outputs": [],
   "source": [
    "df[df[\"Marca\"].str.contains(\"Chevrolet\")].head(50)"
   ]
  },
  {
   "cell_type": "code",
   "execution_count": 6,
   "metadata": {},
   "outputs": [],
   "source": [
    "#consumos promedios"
   ]
  },
  {
   "cell_type": "code",
   "execution_count": null,
   "metadata": {},
   "outputs": [],
   "source": [
    "df.groupby(by = [\"Marca\"]).mean()"
   ]
  },
  {
   "cell_type": "code",
   "execution_count": 8,
   "metadata": {},
   "outputs": [],
   "source": [
    "#consumos maximos"
   ]
  },
  {
   "cell_type": "code",
   "execution_count": null,
   "metadata": {},
   "outputs": [],
   "source": [
    "df.groupby(by = [\"Marca\"]).max()"
   ]
  },
  {
   "cell_type": "code",
   "execution_count": 10,
   "metadata": {},
   "outputs": [],
   "source": [
    "#consumos minimos"
   ]
  },
  {
   "cell_type": "code",
   "execution_count": null,
   "metadata": {},
   "outputs": [],
   "source": [
    "df.groupby(by = [\"Marca\"]).min()"
   ]
  },
  {
   "cell_type": "code",
   "execution_count": 12,
   "metadata": {},
   "outputs": [],
   "source": [
    "#consumos promedios en orden"
   ]
  },
  {
   "cell_type": "code",
   "execution_count": null,
   "metadata": {},
   "outputs": [],
   "source": [
    "df.groupby(by = [\"Marca\"]).mean().sort_values(\"Consumo Fuel(ciudad(L/100km)\")"
   ]
  },
  {
   "cell_type": "code",
   "execution_count": null,
   "metadata": {},
   "outputs": [],
   "source": [
    "df.groupby(by = [\"Marca\"]).mean().sort_values(\"Consumo Fuel(carretera(L/100km)\")"
   ]
  },
  {
   "cell_type": "code",
   "execution_count": null,
   "metadata": {},
   "outputs": [],
   "source": [
    "df.groupby(by = [\"Marca\"]).mean().sort_values(\"Consumo Fuel(Consumo Combinado(L/100km)\")"
   ]
  },
  {
   "cell_type": "code",
   "execution_count": null,
   "metadata": {},
   "outputs": [],
   "source": [
    "df.groupby(by = [\"Marca\"]).mean().sort_values(\"Consumo Fuel(Consumo Combinado(mpg(millas por galon))\")"
   ]
  },
  {
   "cell_type": "code",
   "execution_count": 17,
   "metadata": {},
   "outputs": [],
   "source": [
    "#consumos maximos en orden"
   ]
  },
  {
   "cell_type": "code",
   "execution_count": null,
   "metadata": {},
   "outputs": [],
   "source": [
    "df.groupby(by = [\"Marca\"]).max().sort_values(\"Consumo Fuel(ciudad(L/100km)\")"
   ]
  },
  {
   "cell_type": "code",
   "execution_count": null,
   "metadata": {},
   "outputs": [],
   "source": [
    "df.groupby(by = [\"Marca\"]).max().sort_values(\"Consumo Fuel(carretera(L/100km)\")"
   ]
  },
  {
   "cell_type": "code",
   "execution_count": null,
   "metadata": {},
   "outputs": [],
   "source": [
    "df.groupby(by = [\"Marca\"]).max().sort_values(\"Consumo Fuel(Consumo Combinado(L/100km)\")"
   ]
  },
  {
   "cell_type": "code",
   "execution_count": null,
   "metadata": {},
   "outputs": [],
   "source": [
    "df.groupby(by = [\"Marca\"]).max().sort_values(\"Consumo Fuel(Consumo Combinado(mpg(millas por galon))\")"
   ]
  },
  {
   "cell_type": "code",
   "execution_count": 22,
   "metadata": {},
   "outputs": [],
   "source": [
    "#consumos minimos en orden"
   ]
  },
  {
   "cell_type": "code",
   "execution_count": null,
   "metadata": {},
   "outputs": [],
   "source": [
    "df.groupby(by = [\"Marca\"]).min().sort_values(\"Consumo Fuel(ciudad(L/100km)\")"
   ]
  },
  {
   "cell_type": "code",
   "execution_count": null,
   "metadata": {},
   "outputs": [],
   "source": [
    "df.groupby(by = [\"Marca\"]).min().sort_values(\"Consumo Fuel(carretera(L/100km)\")"
   ]
  },
  {
   "cell_type": "code",
   "execution_count": null,
   "metadata": {},
   "outputs": [],
   "source": [
    "df.groupby(by = [\"Marca\"]).min().sort_values(\"Consumo Fuel(Consumo Combinado(L/100km)\")"
   ]
  },
  {
   "cell_type": "code",
   "execution_count": null,
   "metadata": {},
   "outputs": [],
   "source": [
    "df.groupby(by = [\"Marca\"]).min().sort_values(\"Consumo Fuel(Consumo Combinado(mpg(millas por galon))\")"
   ]
  },
  {
   "cell_type": "code",
   "execution_count": null,
   "metadata": {},
   "outputs": [],
   "source": [
    "df[(df[\"Marca\"].str.contains(\"Toyota\")) & (df[\"Modelo\"].str.contains(\"Camry AWD SE\")) & (df[\"Clase Vehiculo\"].str.contains(\"Mid-size\")) \n",
    "& (df[\"Cilindros\"].str.contains(4)) & (df[\"Transmicion\"].str.contains(\"AS8\")) & (df[\"Tipo Fuel\"].str.contains(\"X\"))]\n",
    "#2022,Toyota,Camry AWD SE,Mid-size,2.5,4,AS8,X,9.4,6.8,8.2,34,192,6,6\n",
    "#mal"
   ]
  },
  {
   "cell_type": "code",
   "execution_count": null,
   "metadata": {},
   "outputs": [],
   "source": [
    "df[(df[\"Marca\"].str.contains(\"Toyota\")) & (df[\"Modelo\"].str.contains(\"Camry AWD SE\")) & (df[\"Clase Vehiculo\"].str.contains(\"Mid-size\")) \n",
    "& (df[\"Transmicion\"].str.contains(\"AS8\")) & (df[\"Tipo Fuel\"].str.contains(\"X\"))]\n",
    "#2022,Toyota,Camry AWD SE,Mid-size,2.5,4,AS8,X,9.4,6.8,8.2,34,192,6,6\n",
    "#bien"
   ]
  }
 ],
 "metadata": {
  "kernelspec": {
   "display_name": "Python 3",
   "language": "python",
   "name": "python3"
  },
  "language_info": {
   "codemirror_mode": {
    "name": "ipython",
    "version": 3
   },
   "file_extension": ".py",
   "mimetype": "text/x-python",
   "name": "python",
   "nbconvert_exporter": "python",
   "pygments_lexer": "ipython3",
   "version": "3.11.1"
  },
  "orig_nbformat": 4,
  "vscode": {
   "interpreter": {
    "hash": "c904bd87413170da76a9f53115cf6340fbe80dab715b9d9be2cd45de1b24f56d"
   }
  }
 },
 "nbformat": 4,
 "nbformat_minor": 2
}
