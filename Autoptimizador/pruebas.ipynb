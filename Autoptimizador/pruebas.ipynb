{
 "cells": [
  {
   "cell_type": "code",
   "execution_count": 1,
   "metadata": {},
   "outputs": [],
   "source": [
    "import pandas as pd\n",
    "df = pd.read_csv('MY2022 Fuel Consumption Ratings.csv')"
   ]
  },
  {
   "cell_type": "code",
   "execution_count": 1,
   "metadata": {},
   "outputs": [
    {
     "name": "stdout",
     "output_type": "stream",
     "text": [
      "Primer punto ->  maipu\n",
      "('-33.0176344', '-68.7169756')\n",
      "Segundo punto ->  cerro navia\n",
      "('-33.4253465', '-70.74605615789243')\n",
      "La distancia entre  maipu  y  cerro navia  es de  194.4751021913276 km\n"
     ]
    },
    {
     "data": {
      "text/html": [
       "<div style=\"width:100%;\"><div style=\"position:relative;width:100%;height:0;padding-bottom:60%;\"><span style=\"color:#565656\">Make this Notebook Trusted to load map: File -> Trust Notebook</span><iframe srcdoc=\"&lt;!DOCTYPE html&gt;\n",
       "&lt;html&gt;\n",
       "&lt;head&gt;\n",
       "    \n",
       "    &lt;meta http-equiv=&quot;content-type&quot; content=&quot;text/html; charset=UTF-8&quot; /&gt;\n",
       "    \n",
       "        &lt;script&gt;\n",
       "            L_NO_TOUCH = false;\n",
       "            L_DISABLE_3D = false;\n",
       "        &lt;/script&gt;\n",
       "    \n",
       "    &lt;style&gt;html, body {width: 100%;height: 100%;margin: 0;padding: 0;}&lt;/style&gt;\n",
       "    &lt;style&gt;#map {position:absolute;top:0;bottom:0;right:0;left:0;}&lt;/style&gt;\n",
       "    &lt;script src=&quot;https://cdn.jsdelivr.net/npm/leaflet@1.9.3/dist/leaflet.js&quot;&gt;&lt;/script&gt;\n",
       "    &lt;script src=&quot;https://code.jquery.com/jquery-1.12.4.min.js&quot;&gt;&lt;/script&gt;\n",
       "    &lt;script src=&quot;https://cdn.jsdelivr.net/npm/bootstrap@5.2.2/dist/js/bootstrap.bundle.min.js&quot;&gt;&lt;/script&gt;\n",
       "    &lt;script src=&quot;https://cdnjs.cloudflare.com/ajax/libs/Leaflet.awesome-markers/2.0.2/leaflet.awesome-markers.js&quot;&gt;&lt;/script&gt;\n",
       "    &lt;link rel=&quot;stylesheet&quot; href=&quot;https://cdn.jsdelivr.net/npm/leaflet@1.9.3/dist/leaflet.css&quot;/&gt;\n",
       "    &lt;link rel=&quot;stylesheet&quot; href=&quot;https://cdn.jsdelivr.net/npm/bootstrap@5.2.2/dist/css/bootstrap.min.css&quot;/&gt;\n",
       "    &lt;link rel=&quot;stylesheet&quot; href=&quot;https://netdna.bootstrapcdn.com/bootstrap/3.0.0/css/bootstrap.min.css&quot;/&gt;\n",
       "    &lt;link rel=&quot;stylesheet&quot; href=&quot;https://cdn.jsdelivr.net/npm/@fortawesome/fontawesome-free@6.2.0/css/all.min.css&quot;/&gt;\n",
       "    &lt;link rel=&quot;stylesheet&quot; href=&quot;https://cdnjs.cloudflare.com/ajax/libs/Leaflet.awesome-markers/2.0.2/leaflet.awesome-markers.css&quot;/&gt;\n",
       "    &lt;link rel=&quot;stylesheet&quot; href=&quot;https://cdn.jsdelivr.net/gh/python-visualization/folium/folium/templates/leaflet.awesome.rotate.min.css&quot;/&gt;\n",
       "    \n",
       "            &lt;meta name=&quot;viewport&quot; content=&quot;width=device-width,\n",
       "                initial-scale=1.0, maximum-scale=1.0, user-scalable=no&quot; /&gt;\n",
       "            &lt;style&gt;\n",
       "                #map_73668854de0de7c1423c4b6ff92bcc09 {\n",
       "                    position: relative;\n",
       "                    width: 100.0%;\n",
       "                    height: 100.0%;\n",
       "                    left: 0.0%;\n",
       "                    top: 0.0%;\n",
       "                }\n",
       "                .leaflet-container { font-size: 1rem; }\n",
       "            &lt;/style&gt;\n",
       "        \n",
       "&lt;/head&gt;\n",
       "&lt;body&gt;\n",
       "    \n",
       "    \n",
       "            &lt;div class=&quot;folium-map&quot; id=&quot;map_73668854de0de7c1423c4b6ff92bcc09&quot; &gt;&lt;/div&gt;\n",
       "        \n",
       "&lt;/body&gt;\n",
       "&lt;script&gt;\n",
       "    \n",
       "    \n",
       "            var map_73668854de0de7c1423c4b6ff92bcc09 = L.map(\n",
       "                &quot;map_73668854de0de7c1423c4b6ff92bcc09&quot;,\n",
       "                {\n",
       "                    center: [0, 0],\n",
       "                    crs: L.CRS.EPSG3857,\n",
       "                    zoom: 1,\n",
       "                    zoomControl: true,\n",
       "                    preferCanvas: false,\n",
       "                    localizacion1: [&quot;-33.0176344&quot;, &quot;-68.7169756&quot;],\n",
       "                }\n",
       "            );\n",
       "\n",
       "            \n",
       "\n",
       "        \n",
       "    \n",
       "            var tile_layer_2f15d80d0b620593567f5f09fcdf877c = L.tileLayer(\n",
       "                &quot;https://{s}.tile.openstreetmap.org/{z}/{x}/{y}.png&quot;,\n",
       "                {&quot;attribution&quot;: &quot;Data by \\u0026copy; \\u003ca target=\\&quot;_blank\\&quot; href=\\&quot;http://openstreetmap.org\\&quot;\\u003eOpenStreetMap\\u003c/a\\u003e, under \\u003ca target=\\&quot;_blank\\&quot; href=\\&quot;http://www.openstreetmap.org/copyright\\&quot;\\u003eODbL\\u003c/a\\u003e.&quot;, &quot;detectRetina&quot;: false, &quot;maxNativeZoom&quot;: 18, &quot;maxZoom&quot;: 18, &quot;minZoom&quot;: 0, &quot;noWrap&quot;: false, &quot;opacity&quot;: 1, &quot;subdomains&quot;: &quot;abc&quot;, &quot;tms&quot;: false}\n",
       "            ).addTo(map_73668854de0de7c1423c4b6ff92bcc09);\n",
       "        \n",
       "    \n",
       "            var marker_7f9674f390f7543fb38c5d56f5a8fc3f = L.marker(\n",
       "                [-33.0176344, -68.7169756],\n",
       "                {}\n",
       "            ).addTo(map_73668854de0de7c1423c4b6ff92bcc09);\n",
       "        \n",
       "    \n",
       "            var icon_3528343a1d217719d158cff6ba51192a = L.AwesomeMarkers.icon(\n",
       "                {&quot;extraClasses&quot;: &quot;fa-rotate-0&quot;, &quot;icon&quot;: &quot;info-sign&quot;, &quot;iconColor&quot;: &quot;white&quot;, &quot;markerColor&quot;: &quot;green&quot;, &quot;prefix&quot;: &quot;glyphicon&quot;}\n",
       "            );\n",
       "            marker_7f9674f390f7543fb38c5d56f5a8fc3f.setIcon(icon_3528343a1d217719d158cff6ba51192a);\n",
       "        \n",
       "    \n",
       "        var popup_00a70c27e85119a87bfbc7913067a16f = L.popup({&quot;maxWidth&quot;: &quot;100%&quot;});\n",
       "\n",
       "        \n",
       "            \n",
       "                var html_c00b332f1fd5dcef7f7746dab4989cb6 = $(`&lt;div id=&quot;html_c00b332f1fd5dcef7f7746dab4989cb6&quot; style=&quot;width: 100.0%; height: 100.0%;&quot;&gt;maipu&lt;/div&gt;`)[0];\n",
       "                popup_00a70c27e85119a87bfbc7913067a16f.setContent(html_c00b332f1fd5dcef7f7746dab4989cb6);\n",
       "            \n",
       "        \n",
       "\n",
       "        marker_7f9674f390f7543fb38c5d56f5a8fc3f.bindPopup(popup_00a70c27e85119a87bfbc7913067a16f)\n",
       "        ;\n",
       "\n",
       "        \n",
       "    \n",
       "    \n",
       "            var marker_b98afa6a2cb95e28de2aec9deb4c4de9 = L.marker(\n",
       "                [-33.4253465, -70.74605615789243],\n",
       "                {}\n",
       "            ).addTo(map_73668854de0de7c1423c4b6ff92bcc09);\n",
       "        \n",
       "    \n",
       "            var icon_73fd4f96439048934f083fb0258de765 = L.AwesomeMarkers.icon(\n",
       "                {&quot;extraClasses&quot;: &quot;fa-rotate-0&quot;, &quot;icon&quot;: &quot;info-sign&quot;, &quot;iconColor&quot;: &quot;white&quot;, &quot;markerColor&quot;: &quot;red&quot;, &quot;prefix&quot;: &quot;glyphicon&quot;}\n",
       "            );\n",
       "            marker_b98afa6a2cb95e28de2aec9deb4c4de9.setIcon(icon_73fd4f96439048934f083fb0258de765);\n",
       "        \n",
       "    \n",
       "        var popup_9e3134b6171da585eeb5bdc81f37b00d = L.popup({&quot;maxWidth&quot;: &quot;100%&quot;});\n",
       "\n",
       "        \n",
       "            \n",
       "                var html_86e6642e3c9384cf488a2f5db97a7874 = $(`&lt;div id=&quot;html_86e6642e3c9384cf488a2f5db97a7874&quot; style=&quot;width: 100.0%; height: 100.0%;&quot;&gt;cerro navia&lt;/div&gt;`)[0];\n",
       "                popup_9e3134b6171da585eeb5bdc81f37b00d.setContent(html_86e6642e3c9384cf488a2f5db97a7874);\n",
       "            \n",
       "        \n",
       "\n",
       "        marker_b98afa6a2cb95e28de2aec9deb4c4de9.bindPopup(popup_9e3134b6171da585eeb5bdc81f37b00d)\n",
       "        ;\n",
       "\n",
       "        \n",
       "    \n",
       "&lt;/script&gt;\n",
       "&lt;/html&gt;\" style=\"position:absolute;width:100%;height:100%;left:0;top:0;border:none !important;\" allowfullscreen webkitallowfullscreen mozallowfullscreen></iframe></div></div>"
      ],
      "text/plain": [
       "<folium.folium.Map at 0x21374eafe50>"
      ]
     },
     "execution_count": 1,
     "metadata": {},
     "output_type": "execute_result"
    }
   ],
   "source": [
    "import folium\n",
    "from geopy.distance import geodesic\n",
    "from geopy.geocoders import Nominatim\n",
    "app = Nominatim(user_agent=\"tycgis\")\n",
    "\n",
    "localizacion1 = input(\"Introduze la primera localización: \")\n",
    "print(\"Primer punto -> \" , localizacion1)\n",
    "\n",
    "location1 = app.geocode(localizacion1).raw\n",
    "latitude1 = location1[\"lat\"]\n",
    "longitude1 = location1[\"lon\"]\n",
    "\n",
    "punto1 = (latitude1, longitude1)\n",
    "\n",
    "print(punto1)\n",
    "\n",
    "localizacion2 = input(\"Introduze la segunda localización: \")\n",
    "print(\"Segundo punto -> \" , localizacion2)\n",
    "\n",
    "location2 = app.geocode(localizacion2).raw\n",
    "latitude2 = location2[\"lat\"]\n",
    "longitude2 = location2[\"lon\"]\n",
    "\n",
    "punto2 = (latitude2, longitude2)\n",
    "print(punto2)\n",
    "\n",
    "distancia = geodesic((latitude1, longitude1), (latitude2, longitude2))\n",
    "\n",
    "print(\"La distancia entre \", localizacion1 , \" y \" , localizacion2 , \" es de \", distancia)\n",
    "\n",
    "map = folium.Map(localizacion1=[latitude1, longitude1], zoom_start=1)\n",
    "\n",
    "# Punto 1\n",
    "map.add_child(folium.Marker(punto1, popup=localizacion1, icon=folium.Icon(color='green')))\n",
    "\n",
    "# Punto 2\n",
    "map.add_child(folium.Marker(punto2, popup=localizacion2, icon=folium.Icon(color='red')))\n",
    "\n",
    "map"
   ]
  },
  {
   "cell_type": "code",
   "execution_count": 2,
   "metadata": {},
   "outputs": [],
   "source": [
    "#print(\"\\nOriginal DataFrame\")\n",
    "#print(pd.DataFrame(df))\n",
    "df.columns = ['Año Modelo','Marca','Modelo','Clase Vehiculo','Tamaño Maquina(L)','Cilindros','Transmicion',\n",
    "'Tipo Fuel','Consumo Fuel(ciudad(L/100km)','Consumo Fuel(carretera(L/100km)','Consumo Fuel(Consumo Combinado(L/100km)',\n",
    "'Consumo Fuel(Consumo Combinado(mpg(millas por galon))','CO2 emiciones(g/km)','CO2 Rating','Smog Rating']\n",
    "\n",
    "#print(\"\\nModified DataFrame\")\n",
    "#print(pd.DataFrame(df))"
   ]
  },
  {
   "cell_type": "code",
   "execution_count": null,
   "metadata": {},
   "outputs": [],
   "source": [
    "df.groupby(by = [\"Marca\"]).mean()"
   ]
  },
  {
   "cell_type": "code",
   "execution_count": null,
   "metadata": {},
   "outputs": [],
   "source": [
    "df.groupby(by = [\"Marca\"]).max()"
   ]
  },
  {
   "cell_type": "code",
   "execution_count": null,
   "metadata": {},
   "outputs": [],
   "source": [
    "df.groupby(by = [\"Marca\"]).min()"
   ]
  },
  {
   "cell_type": "code",
   "execution_count": null,
   "metadata": {},
   "outputs": [],
   "source": [
    "df[(df[\"Marca\"]==\"Toyota\") & (df[\"Modelo\"]==\"Camry AWD SE\") & (df[\"Clase Vehiculo\"]==\"Mid-size\") \n",
    "& (df[\"Cilindros\"]==4) & (df[\"Transmicion\"]==\"AS8\") & (df[\"Tipo Fuel\"]==\"X\")]\n",
    "#2022,Toyota,Camry AWD SE,Mid-size,2.5,4,AS8,X,9.4,6.8,8.2,34,192,6,6\n",
    "#mal"
   ]
  },
  {
   "cell_type": "code",
   "execution_count": 4,
   "metadata": {},
   "outputs": [
    {
     "data": {
      "text/html": [
       "<div>\n",
       "<style scoped>\n",
       "    .dataframe tbody tr th:only-of-type {\n",
       "        vertical-align: middle;\n",
       "    }\n",
       "\n",
       "    .dataframe tbody tr th {\n",
       "        vertical-align: top;\n",
       "    }\n",
       "\n",
       "    .dataframe thead th {\n",
       "        text-align: right;\n",
       "    }\n",
       "</style>\n",
       "<table border=\"1\" class=\"dataframe\">\n",
       "  <thead>\n",
       "    <tr style=\"text-align: right;\">\n",
       "      <th></th>\n",
       "      <th>Año Modelo</th>\n",
       "      <th>Marca</th>\n",
       "      <th>Modelo</th>\n",
       "      <th>Clase Vehiculo</th>\n",
       "      <th>Tamaño Maquina(L)</th>\n",
       "      <th>Cilindros</th>\n",
       "      <th>Transmicion</th>\n",
       "      <th>Tipo Fuel</th>\n",
       "      <th>Consumo Fuel(ciudad(L/100km)</th>\n",
       "      <th>Consumo Fuel(carretera(L/100km)</th>\n",
       "      <th>Consumo Fuel(Consumo Combinado(L/100km)</th>\n",
       "      <th>Consumo Fuel(Consumo Combinado(mpg(millas por galon))</th>\n",
       "      <th>CO2 emiciones(g/km)</th>\n",
       "      <th>CO2 Rating</th>\n",
       "      <th>Smog Rating</th>\n",
       "    </tr>\n",
       "  </thead>\n",
       "  <tbody>\n",
       "    <tr>\n",
       "      <th>872</th>\n",
       "      <td>2022</td>\n",
       "      <td>Toyota</td>\n",
       "      <td>Camry AWD SE</td>\n",
       "      <td>Mid-size</td>\n",
       "      <td>2.5</td>\n",
       "      <td>4</td>\n",
       "      <td>AS8</td>\n",
       "      <td>X</td>\n",
       "      <td>9.4</td>\n",
       "      <td>6.8</td>\n",
       "      <td>8.2</td>\n",
       "      <td>34</td>\n",
       "      <td>192</td>\n",
       "      <td>6</td>\n",
       "      <td>6</td>\n",
       "    </tr>\n",
       "  </tbody>\n",
       "</table>\n",
       "</div>"
      ],
      "text/plain": [
       "     Año Modelo   Marca        Modelo Clase Vehiculo  Tamaño Maquina(L)  \\\n",
       "872        2022  Toyota  Camry AWD SE       Mid-size                2.5   \n",
       "\n",
       "     Cilindros Transmicion Tipo Fuel  Consumo Fuel(ciudad(L/100km)  \\\n",
       "872          4         AS8         X                           9.4   \n",
       "\n",
       "     Consumo Fuel(carretera(L/100km)  Consumo Fuel(Consumo Combinado(L/100km)  \\\n",
       "872                              6.8                                      8.2   \n",
       "\n",
       "     Consumo Fuel(Consumo Combinado(mpg(millas por galon))  \\\n",
       "872                                                 34       \n",
       "\n",
       "     CO2 emiciones(g/km)  CO2 Rating  Smog Rating  \n",
       "872                  192           6            6  "
      ]
     },
     "execution_count": 4,
     "metadata": {},
     "output_type": "execute_result"
    }
   ],
   "source": [
    "extracion = df[(df[\"Marca\"]==\"Toyota\") & (df[\"Modelo\"]==\"Camry AWD SE\") & (df[\"Clase Vehiculo\"]==\"Mid-size\") \n",
    "& (df[\"Cilindros\"]==4) & (df[\"Transmicion\"]==\"AS8\") & (df[\"Tipo Fuel\"]==\"X\")]"
   ]
  },
  {
   "cell_type": "code",
   "execution_count": 24,
   "metadata": {},
   "outputs": [
    {
     "name": "stdout",
     "output_type": "stream",
     "text": [
      "9.4\n"
     ]
    }
   ],
   "source": [
    "filtroV = df[(df[\"Marca\"]==\"Toyota\") & (df[\"Modelo\"]==\"Camry AWD SE\") & (df[\"Clase Vehiculo\"]==\"Mid-size\") \n",
    "& (df[\"Cilindros\"]==4) & (df[\"Transmicion\"]==\"AS8\") & (df[\"Tipo Fuel\"]==\"X\")]\n",
    "\n",
    "estado = 'ciudad'\n",
    "estado = estado.lower()\n",
    "if estado == \"ciudad\":\n",
    "    consumo = filtroV['Consumo Fuel(ciudad(L/100km)']\n",
    "    index_consumo = consumo.index.values[0]\n",
    "    a = df.loc[index_consumo,'Consumo Fuel(ciudad(L/100km)']\n",
    "    print(a)"
   ]
  },
  {
   "cell_type": "code",
   "execution_count": 22,
   "metadata": {},
   "outputs": [
    {
     "data": {
      "text/plain": [
       "4"
      ]
     },
     "execution_count": 22,
     "metadata": {},
     "output_type": "execute_result"
    }
   ],
   "source": [
    "df.loc[872,'Cilindros']"
   ]
  }
 ],
 "metadata": {
  "kernelspec": {
   "display_name": "Python 3",
   "language": "python",
   "name": "python3"
  },
  "language_info": {
   "codemirror_mode": {
    "name": "ipython",
    "version": 3
   },
   "file_extension": ".py",
   "mimetype": "text/x-python",
   "name": "python",
   "nbconvert_exporter": "python",
   "pygments_lexer": "ipython3",
   "version": "3.11.1"
  },
  "orig_nbformat": 4,
  "vscode": {
   "interpreter": {
    "hash": "c904bd87413170da76a9f53115cf6340fbe80dab715b9d9be2cd45de1b24f56d"
   }
  }
 },
 "nbformat": 4,
 "nbformat_minor": 2
}
